{
 "cells": [
  {
   "cell_type": "markdown",
   "id": "276f235b",
   "metadata": {},
   "source": [
    "<h1>What would be the most cost effective way to learn Data Analysis ?</h1>\n",
    "    <h4>     a edX & Udemy comparison</h4>"
   ]
  },
  {
   "cell_type": "markdown",
   "id": "cf4ff029",
   "metadata": {},
   "source": [
    "<h3>Importing the libraries used for the project</h4>"
   ]
  },
  {
   "cell_type": "code",
   "execution_count": 1,
   "id": "3dd9069b",
   "metadata": {},
   "outputs": [],
   "source": [
    "import pandas as pd\n",
    "import matplotlib.pylab as plt \n",
    "import numpy as np\n",
    "import sqlite3\n",
    "import seaborn as sns\n",
    "from pathlib import Path as path"
   ]
  },
  {
   "cell_type": "markdown",
   "id": "e6336e2a",
   "metadata": {},
   "source": [
    "<h3>Declaring the variables for the project</h4>\t"
   ]
  },
  {
   "cell_type": "code",
   "execution_count": 2,
   "id": "f96ec805",
   "metadata": {},
   "outputs": [],
   "source": [
    "edx = pd.read_csv('edx_courses.csv')\n",
    "udemy = pd.read_csv('udemy_courses.csv')\n",
    "edx_compared_with_udemy = pd.read_csv('udemy_compared_to_edx.csv')"
   ]
  },
  {
   "cell_type": "markdown",
   "id": "155fd960",
   "metadata": {},
   "source": [
    "<h2>edx</h2>\t\n"
   ]
  },
  {
   "cell_type": "code",
   "execution_count": 3,
   "id": "9086fafe",
   "metadata": {
    "scrolled": false
   },
   "outputs": [
    {
     "name": "stdout",
     "output_type": "stream",
     "text": [
      "-- Shape of edx:  (975, 16) \n",
      " _____ \n",
      "\n",
      "-- Data types of edx:\n",
      "\n",
      " title                 object\n",
      "summary               object\n",
      "n_enrolled            object\n",
      "course_type           object\n",
      "institution           object\n",
      "instructors           object\n",
      "Level                 object\n",
      "subject               object\n",
      "language              object\n",
      "subtitles             object\n",
      "course_effort         object\n",
      "course_length         object\n",
      "price                 object\n",
      "course_description    object\n",
      "course_syllabus       object\n",
      "course_url            object\n",
      "dtype: object \n",
      " _____ \n",
      "\n",
      "-- Number of unique rows edx\n",
      "\n",
      " title                 972\n",
      "summary               887\n",
      "n_enrolled            849\n",
      "course_type             2\n",
      "institution           111\n",
      "instructors           775\n",
      "Level                   3\n",
      "subject                31\n",
      "language                9\n",
      "subtitles              33\n",
      "course_effort          53\n",
      "course_length          18\n",
      "price                  47\n",
      "course_description    932\n",
      "course_syllabus       412\n",
      "course_url            974\n",
      "dtype: int64\n"
     ]
    }
   ],
   "source": [
    "print('-- Shape of {}: '.format('edx'), edx.shape, '\\n _____ \\n')\n",
    "print('-- Data types of {}:\\n\\n'.format('edx'), edx.dtypes, '\\n _____ \\n')\n",
    "print('-- Number of unique rows {}\\n\\n'.format('edx'), edx.nunique())"
   ]
  },
  {
   "cell_type": "code",
   "execution_count": 4,
   "id": "f654e2c6",
   "metadata": {},
   "outputs": [
    {
     "name": "stdout",
     "output_type": "stream",
     "text": [
      "-- Columns of edx: \n",
      " Index(['title', 'summary', 'n_enrolled', 'course_type', 'institution',\n",
      "       'instructors', 'Level', 'subject', 'language', 'subtitles',\n",
      "       'course_effort', 'course_length', 'price', 'course_description',\n",
      "       'course_syllabus', 'course_url'],\n",
      "      dtype='object') \n",
      " _____ \n",
      "\n",
      "-- Head of edx\n",
      "\n",
      "                                                title  \\\n",
      "0                                How to Learn Online   \n",
      "1  Programming for Everybody (Getting Started wit...   \n",
      "2            CS50's Introduction to Computer Science   \n",
      "3                                 The Analytics Edge   \n",
      "4  Marketing Analytics: Marketing Measurement Str...   \n",
      "\n",
      "                                             summary n_enrolled  \\\n",
      "0  Learn essential strategies for successful onli...    124,980   \n",
      "1  This course is a \"no prerequisite\" introductio...    293,864   \n",
      "2  An introduction to the intellectual enterprise...  2,442,271   \n",
      "3  Through inspiring examples and stories, discov...    129,555   \n",
      "4     This course is part of a MicroMasters® Program     81,140   \n",
      "\n",
      "                           course_type                            institution  \\\n",
      "0              Self-paced on your time                                    edX   \n",
      "1              Self-paced on your time             The University of Michigan   \n",
      "2              Self-paced on your time                     Harvard University   \n",
      "3  Instructor-led on a course schedule  Massachusetts Institute of Technology   \n",
      "4              Self-paced on your time     University of California, Berkeley   \n",
      "\n",
      "                                         instructors         Level  \\\n",
      "0            Nina Huntemann-Robyn Belair-Ben Piscopo  Introductory   \n",
      "1                                  Charles Severance  Introductory   \n",
      "2                 David J. Malan-Doug Lloyd-Brian Yu  Introductory   \n",
      "3  Dimitris Bertsimas-Allison O'Hair-John Silberh...  Intermediate   \n",
      "4                                     Stephan Sorger  Introductory   \n",
      "\n",
      "                        subject language subtitles         course_effort  \\\n",
      "0  Education & Teacher Training  English   English    2–3 hours per week   \n",
      "1              Computer Science  English   English    2–4 hours per week   \n",
      "2              Computer Science  English   English   6–18 hours per week   \n",
      "3    Data Analysis & Statistics  English   English  10–15 hours per week   \n",
      "4              Computer Science  English   English    5–7 hours per week   \n",
      "\n",
      "  course_length                                         price  \\\n",
      "0       2 Weeks   FREE-Add a Verified Certificate for $49 USD   \n",
      "1       7 Weeks   FREE-Add a Verified Certificate for $49 USD   \n",
      "2      12 Weeks   FREE-Add a Verified Certificate for $90 USD   \n",
      "3      13 Weeks  FREE-Add a Verified Certificate for $199 USD   \n",
      "4       4 Weeks  FREE-Add a Verified Certificate for $249 USD   \n",
      "\n",
      "                                  course_description  \\\n",
      "0  Designed for those who are new to elearning, t...   \n",
      "1  This course aims to teach everyone the basics ...   \n",
      "2  This is CS50x , Harvard University's introduct...   \n",
      "3  In the last decade, the amount of data availab...   \n",
      "4  Begin your journey in a new career in marketin...   \n",
      "\n",
      "                                     course_syllabus  \\\n",
      "0  Welcome - We start with opportunities to meet ...   \n",
      "1                                                NaN   \n",
      "2                                                NaN   \n",
      "3                                                NaN   \n",
      "4                                                NaN   \n",
      "\n",
      "                                          course_url  \n",
      "0     https://www.edx.org/course/how-to-learn-online  \n",
      "1  https://www.edx.org/course/programming-for-eve...  \n",
      "2  https://www.edx.org/course/cs50s-introduction-...  \n",
      "3      https://www.edx.org/course/the-analytics-edge  \n",
      "4  https://www.edx.org/course/marketing-analytics...  \n"
     ]
    }
   ],
   "source": [
    "print('-- Columns of {}:'.format('edx'), '\\n', edx.columns, '\\n _____ \\n')\n",
    "print('-- Head of {}\\n\\n'.format('edx'), edx.head())"
   ]
  },
  {
   "cell_type": "code",
   "execution_count": 5,
   "id": "64c7258b",
   "metadata": {
    "scrolled": true
   },
   "outputs": [
    {
     "data": {
      "text/plain": [
       "title                   0\n",
       "summary                53\n",
       "n_enrolled            120\n",
       "course_type             0\n",
       "institution             0\n",
       "instructors             3\n",
       "Level                   0\n",
       "subject                 0\n",
       "language                0\n",
       "subtitles               3\n",
       "course_effort           0\n",
       "course_length           0\n",
       "price                   0\n",
       "course_description     40\n",
       "course_syllabus       558\n",
       "course_url              0\n",
       "dtype: int64"
      ]
     },
     "execution_count": 5,
     "metadata": {},
     "output_type": "execute_result"
    }
   ],
   "source": [
    "# Are there any row without value ?\n",
    "edx.isna().sum()"
   ]
  },
  {
   "cell_type": "markdown",
   "id": "a2d03355",
   "metadata": {},
   "source": [
    "It seems that:\n",
    "- summary,\n",
    "- n_enrolled,\n",
    "- instructors, \n",
    "- subtitles, \n",
    "- course_description, \n",
    "- course_syllabus \n",
    "\n",
    "all have missing values.\n",
    "\n",
    "We'll firstly need to patch those holes in the data if we want to use it for further analysis:"
   ]
  },
  {
   "cell_type": "code",
   "execution_count": 6,
   "id": "90eed7b9",
   "metadata": {},
   "outputs": [],
   "source": [
    "#Changing the na values into 'Unlisted'\n",
    "edx.summary = edx.summary.fillna('Unlisted')\n",
    "edx.n_enrolled = edx.n_enrolled.fillna(0)\n",
    "edx.instructors = edx.instructors.fillna('Unlisted')\n",
    "edx.subtitles = edx.subtitles.fillna('Unlisted')\n",
    "edx.course_description = edx.course_description.fillna('Unlisted')\n",
    "edx.course_syllabus = edx.course_syllabus.fillna('Unlisted')"
   ]
  },
  {
   "cell_type": "markdown",
   "id": "11b588ba",
   "metadata": {},
   "source": [
    "Checking if I did not forget any column:"
   ]
  },
  {
   "cell_type": "code",
   "execution_count": 7,
   "id": "e2389f79",
   "metadata": {
    "scrolled": true
   },
   "outputs": [
    {
     "data": {
      "text/plain": [
       "title                 0\n",
       "summary               0\n",
       "n_enrolled            0\n",
       "course_type           0\n",
       "institution           0\n",
       "instructors           0\n",
       "Level                 0\n",
       "subject               0\n",
       "language              0\n",
       "subtitles             0\n",
       "course_effort         0\n",
       "course_length         0\n",
       "price                 0\n",
       "course_description    0\n",
       "course_syllabus       0\n",
       "course_url            0\n",
       "dtype: int64"
      ]
     },
     "execution_count": 7,
     "metadata": {},
     "output_type": "execute_result"
    }
   ],
   "source": [
    "edx.isna().sum()"
   ]
  },
  {
   "cell_type": "markdown",
   "id": "9bc4b60e",
   "metadata": {},
   "source": [
    "Seems good!\n",
    "\n",
    "Now, since all the data holes are patched, I have to clean the data to create my analysis:"
   ]
  },
  {
   "cell_type": "code",
   "execution_count": 8,
   "id": "a544df53",
   "metadata": {},
   "outputs": [
    {
     "name": "stderr",
     "output_type": "stream",
     "text": [
      "/var/folders/yb/jrnqn1jx4y1561cpnnfbfc_r0000gn/T/ipykernel_53140/1443937722.py:6: FutureWarning: The default value of regex will change from True to False in a future version. In addition, single character regular expressions will *not* be treated as literal strings when regex=True.\n",
      "  edx.price = edx.price.str.replace('$','')\n"
     ]
    }
   ],
   "source": [
    "# Changing '124,980' to '124980' in the 'n_enrolled' column\n",
    "edx.n_enrolled = edx.n_enrolled.str.replace(',','')\n",
    "\n",
    "# Changing 'FREE-Add a Verified Certificate for $49 USD to 124980' to '49' in the 'price' column\n",
    "edx.price = edx.price.str.replace('FREE-Add a Verified Certificate for ','')\n",
    "edx.price = edx.price.str.replace('$','')\n",
    "edx.price = edx.price.str.replace('USD','')\n",
    "\n",
    "# For example: changing '2 Weeks' to '2'\n",
    "edx.course_length = edx.course_length.str.replace(' Weeks', '')"
   ]
  },
  {
   "cell_type": "markdown",
   "id": "ed7644c2",
   "metadata": {},
   "source": [
    "Verifying if all the changes made are done:"
   ]
  },
  {
   "cell_type": "code",
   "execution_count": 9,
   "id": "077e8c20",
   "metadata": {},
   "outputs": [
    {
     "data": {
      "text/html": [
       "<div>\n",
       "<style scoped>\n",
       "    .dataframe tbody tr th:only-of-type {\n",
       "        vertical-align: middle;\n",
       "    }\n",
       "\n",
       "    .dataframe tbody tr th {\n",
       "        vertical-align: top;\n",
       "    }\n",
       "\n",
       "    .dataframe thead th {\n",
       "        text-align: right;\n",
       "    }\n",
       "</style>\n",
       "<table border=\"1\" class=\"dataframe\">\n",
       "  <thead>\n",
       "    <tr style=\"text-align: right;\">\n",
       "      <th></th>\n",
       "      <th>title</th>\n",
       "      <th>summary</th>\n",
       "      <th>n_enrolled</th>\n",
       "      <th>course_type</th>\n",
       "      <th>institution</th>\n",
       "      <th>instructors</th>\n",
       "      <th>Level</th>\n",
       "      <th>subject</th>\n",
       "      <th>language</th>\n",
       "      <th>subtitles</th>\n",
       "      <th>course_effort</th>\n",
       "      <th>course_length</th>\n",
       "      <th>price</th>\n",
       "      <th>course_description</th>\n",
       "      <th>course_syllabus</th>\n",
       "      <th>course_url</th>\n",
       "    </tr>\n",
       "  </thead>\n",
       "  <tbody>\n",
       "    <tr>\n",
       "      <th>0</th>\n",
       "      <td>How to Learn Online</td>\n",
       "      <td>Learn essential strategies for successful onli...</td>\n",
       "      <td>124980</td>\n",
       "      <td>Self-paced on your time</td>\n",
       "      <td>edX</td>\n",
       "      <td>Nina Huntemann-Robyn Belair-Ben Piscopo</td>\n",
       "      <td>Introductory</td>\n",
       "      <td>Education &amp; Teacher Training</td>\n",
       "      <td>English</td>\n",
       "      <td>English</td>\n",
       "      <td>2–3 hours per week</td>\n",
       "      <td>2</td>\n",
       "      <td>49</td>\n",
       "      <td>Designed for those who are new to elearning, t...</td>\n",
       "      <td>Welcome - We start with opportunities to meet ...</td>\n",
       "      <td>https://www.edx.org/course/how-to-learn-online</td>\n",
       "    </tr>\n",
       "    <tr>\n",
       "      <th>1</th>\n",
       "      <td>Programming for Everybody (Getting Started wit...</td>\n",
       "      <td>This course is a \"no prerequisite\" introductio...</td>\n",
       "      <td>293864</td>\n",
       "      <td>Self-paced on your time</td>\n",
       "      <td>The University of Michigan</td>\n",
       "      <td>Charles Severance</td>\n",
       "      <td>Introductory</td>\n",
       "      <td>Computer Science</td>\n",
       "      <td>English</td>\n",
       "      <td>English</td>\n",
       "      <td>2–4 hours per week</td>\n",
       "      <td>7</td>\n",
       "      <td>49</td>\n",
       "      <td>This course aims to teach everyone the basics ...</td>\n",
       "      <td>Unlisted</td>\n",
       "      <td>https://www.edx.org/course/programming-for-eve...</td>\n",
       "    </tr>\n",
       "    <tr>\n",
       "      <th>2</th>\n",
       "      <td>CS50's Introduction to Computer Science</td>\n",
       "      <td>An introduction to the intellectual enterprise...</td>\n",
       "      <td>2442271</td>\n",
       "      <td>Self-paced on your time</td>\n",
       "      <td>Harvard University</td>\n",
       "      <td>David J. Malan-Doug Lloyd-Brian Yu</td>\n",
       "      <td>Introductory</td>\n",
       "      <td>Computer Science</td>\n",
       "      <td>English</td>\n",
       "      <td>English</td>\n",
       "      <td>6–18 hours per week</td>\n",
       "      <td>12</td>\n",
       "      <td>90</td>\n",
       "      <td>This is CS50x , Harvard University's introduct...</td>\n",
       "      <td>Unlisted</td>\n",
       "      <td>https://www.edx.org/course/cs50s-introduction-...</td>\n",
       "    </tr>\n",
       "    <tr>\n",
       "      <th>3</th>\n",
       "      <td>The Analytics Edge</td>\n",
       "      <td>Through inspiring examples and stories, discov...</td>\n",
       "      <td>129555</td>\n",
       "      <td>Instructor-led on a course schedule</td>\n",
       "      <td>Massachusetts Institute of Technology</td>\n",
       "      <td>Dimitris Bertsimas-Allison O'Hair-John Silberh...</td>\n",
       "      <td>Intermediate</td>\n",
       "      <td>Data Analysis &amp; Statistics</td>\n",
       "      <td>English</td>\n",
       "      <td>English</td>\n",
       "      <td>10–15 hours per week</td>\n",
       "      <td>13</td>\n",
       "      <td>199</td>\n",
       "      <td>In the last decade, the amount of data availab...</td>\n",
       "      <td>Unlisted</td>\n",
       "      <td>https://www.edx.org/course/the-analytics-edge</td>\n",
       "    </tr>\n",
       "    <tr>\n",
       "      <th>4</th>\n",
       "      <td>Marketing Analytics: Marketing Measurement Str...</td>\n",
       "      <td>This course is part of a MicroMasters® Program</td>\n",
       "      <td>81140</td>\n",
       "      <td>Self-paced on your time</td>\n",
       "      <td>University of California, Berkeley</td>\n",
       "      <td>Stephan Sorger</td>\n",
       "      <td>Introductory</td>\n",
       "      <td>Computer Science</td>\n",
       "      <td>English</td>\n",
       "      <td>English</td>\n",
       "      <td>5–7 hours per week</td>\n",
       "      <td>4</td>\n",
       "      <td>249</td>\n",
       "      <td>Begin your journey in a new career in marketin...</td>\n",
       "      <td>Unlisted</td>\n",
       "      <td>https://www.edx.org/course/marketing-analytics...</td>\n",
       "    </tr>\n",
       "  </tbody>\n",
       "</table>\n",
       "</div>"
      ],
      "text/plain": [
       "                                               title  \\\n",
       "0                                How to Learn Online   \n",
       "1  Programming for Everybody (Getting Started wit...   \n",
       "2            CS50's Introduction to Computer Science   \n",
       "3                                 The Analytics Edge   \n",
       "4  Marketing Analytics: Marketing Measurement Str...   \n",
       "\n",
       "                                             summary n_enrolled  \\\n",
       "0  Learn essential strategies for successful onli...     124980   \n",
       "1  This course is a \"no prerequisite\" introductio...     293864   \n",
       "2  An introduction to the intellectual enterprise...    2442271   \n",
       "3  Through inspiring examples and stories, discov...     129555   \n",
       "4     This course is part of a MicroMasters® Program      81140   \n",
       "\n",
       "                           course_type                            institution  \\\n",
       "0              Self-paced on your time                                    edX   \n",
       "1              Self-paced on your time             The University of Michigan   \n",
       "2              Self-paced on your time                     Harvard University   \n",
       "3  Instructor-led on a course schedule  Massachusetts Institute of Technology   \n",
       "4              Self-paced on your time     University of California, Berkeley   \n",
       "\n",
       "                                         instructors         Level  \\\n",
       "0            Nina Huntemann-Robyn Belair-Ben Piscopo  Introductory   \n",
       "1                                  Charles Severance  Introductory   \n",
       "2                 David J. Malan-Doug Lloyd-Brian Yu  Introductory   \n",
       "3  Dimitris Bertsimas-Allison O'Hair-John Silberh...  Intermediate   \n",
       "4                                     Stephan Sorger  Introductory   \n",
       "\n",
       "                        subject language subtitles         course_effort  \\\n",
       "0  Education & Teacher Training  English   English    2–3 hours per week   \n",
       "1              Computer Science  English   English    2–4 hours per week   \n",
       "2              Computer Science  English   English   6–18 hours per week   \n",
       "3    Data Analysis & Statistics  English   English  10–15 hours per week   \n",
       "4              Computer Science  English   English    5–7 hours per week   \n",
       "\n",
       "  course_length price                                 course_description  \\\n",
       "0             2   49   Designed for those who are new to elearning, t...   \n",
       "1             7   49   This course aims to teach everyone the basics ...   \n",
       "2            12   90   This is CS50x , Harvard University's introduct...   \n",
       "3            13  199   In the last decade, the amount of data availab...   \n",
       "4             4  249   Begin your journey in a new career in marketin...   \n",
       "\n",
       "                                     course_syllabus  \\\n",
       "0  Welcome - We start with opportunities to meet ...   \n",
       "1                                           Unlisted   \n",
       "2                                           Unlisted   \n",
       "3                                           Unlisted   \n",
       "4                                           Unlisted   \n",
       "\n",
       "                                          course_url  \n",
       "0     https://www.edx.org/course/how-to-learn-online  \n",
       "1  https://www.edx.org/course/programming-for-eve...  \n",
       "2  https://www.edx.org/course/cs50s-introduction-...  \n",
       "3      https://www.edx.org/course/the-analytics-edge  \n",
       "4  https://www.edx.org/course/marketing-analytics...  "
      ]
     },
     "execution_count": 9,
     "metadata": {},
     "output_type": "execute_result"
    }
   ],
   "source": [
    "edx.head()"
   ]
  },
  {
   "cell_type": "markdown",
   "id": "2271a6e4",
   "metadata": {},
   "source": [
    "Seems good !\n",
    "\n",
    "If I decide to run the next cell as is, I will have this error pop-up \"ValueError: cannot convert float NaN to integer\". It is because we created holes in the data by removing \"FREE-Add a Verified Certificate for\", \"$\" and \"USD\".\n",
    "\n",
    "I have to fill those data holes first."
   ]
  },
  {
   "cell_type": "code",
   "execution_count": 10,
   "id": "8957290e",
   "metadata": {},
   "outputs": [],
   "source": [
    "edx.n_enrolled = edx.n_enrolled.fillna(0)"
   ]
  },
  {
   "cell_type": "markdown",
   "id": "aa967cdf",
   "metadata": {},
   "source": [
    "Saving the file to excel for using it in a Tableau Dashboard"
   ]
  },
  {
   "cell_type": "code",
   "execution_count": 11,
   "id": "e78ed00b",
   "metadata": {},
   "outputs": [],
   "source": [
    "edx.to_excel(\"edx.xlsx\", index=False)"
   ]
  },
  {
   "cell_type": "markdown",
   "id": "79c285da",
   "metadata": {},
   "source": [
    "Then change n_enrolled dtype to int, price dtype to float & course_length dtype to int.\n"
   ]
  },
  {
   "cell_type": "code",
   "execution_count": 12,
   "id": "fe07a53d",
   "metadata": {},
   "outputs": [
    {
     "data": {
      "text/plain": [
       "title                  object\n",
       "summary                object\n",
       "n_enrolled              int64\n",
       "course_type            object\n",
       "institution            object\n",
       "instructors            object\n",
       "Level                  object\n",
       "subject                object\n",
       "language               object\n",
       "subtitles              object\n",
       "course_effort          object\n",
       "course_length           int64\n",
       "price                 float64\n",
       "course_description     object\n",
       "course_syllabus        object\n",
       "course_url             object\n",
       "dtype: object"
      ]
     },
     "execution_count": 12,
     "metadata": {},
     "output_type": "execute_result"
    }
   ],
   "source": [
    "edx.n_enrolled = edx.n_enrolled.astype(int)\n",
    "edx.price = edx.price.astype(float)\n",
    "edx.course_length = edx.course_length.astype(int)\n",
    "\n",
    "edx.dtypes"
   ]
  },
  {
   "cell_type": "markdown",
   "id": "19685b73",
   "metadata": {},
   "source": [
    "The dtypes of the numerical data we have is now changed.\n",
    "\n",
    "Lets focus on visualising and understanding the data we have.\n",
    "\n",
    "To do that, I'll use MySQL queries using the sqlite3 library.\n",
    "\n",
    "But first, I would like to understand if the numerical data I have is correlated with each other:"
   ]
  },
  {
   "cell_type": "code",
   "execution_count": 13,
   "id": "a4ce997d",
   "metadata": {},
   "outputs": [
    {
     "data": {
      "text/plain": [
       "<AxesSubplot:>"
      ]
     },
     "execution_count": 13,
     "metadata": {},
     "output_type": "execute_result"
    },
    {
     "data": {
      "image/png": "[encoded data removed]",
      "text/plain": [
       "<Figure size 432x288 with 2 Axes>"
      ]
     },
     "metadata": {
      "needs_background": "light"
     },
     "output_type": "display_data"
    }
   ],
   "source": [
    "correlation = edx.corr()\n",
    "sns.heatmap(correlation, xticklabels = correlation.columns, yticklabels = correlation.columns, annot = True, )"
   ]
  },
  {
   "cell_type": "markdown",
   "id": "1bf92ed7",
   "metadata": {},
   "source": [
    "Price, n_enrolled or price does not seem to be correlated with one another."
   ]
  },
  {
   "cell_type": "code",
   "execution_count": 14,
   "id": "b7e78be4",
   "metadata": {},
   "outputs": [],
   "source": [
    "edx_csv = edx.to_csv(\"edx_for_db.csv\")\n",
    "\n",
    "path('edx_course_descriptions.db').touch()\n",
    "\n",
    "edx_conn = sqlite3.connect('edx.db')\n",
    "edx_cursor = edx_conn.cursor()\n",
    "edx.to_sql('edx', edx_conn, if_exists='append', index=False)"
   ]
  },
  {
   "cell_type": "code",
   "execution_count": 15,
   "id": "941c71d5",
   "metadata": {},
   "outputs": [
    {
     "ename": "NameError",
     "evalue": "name 'price_n_enrolled' is not defined",
     "output_type": "error",
     "traceback": [
      "\u001b[0;31m---------------------------------------------------------------------------\u001b[0m",
      "\u001b[0;31mNameError\u001b[0m                                 Traceback (most recent call last)",
      "\u001b[0;32m/var/folders/yb/jrnqn1jx4y1561cpnnfbfc_r0000gn/T/ipykernel_53140/4003976512.py\u001b[0m in \u001b[0;36m<module>\u001b[0;34m\u001b[0m\n\u001b[1;32m      2\u001b[0m                                       FROM edx''', edx_conn)\n\u001b[1;32m      3\u001b[0m \u001b[0;34m\u001b[0m\u001b[0m\n\u001b[0;32m----> 4\u001b[0;31m \u001b[0msns\u001b[0m\u001b[0;34m.\u001b[0m\u001b[0mscatterplot\u001b[0m\u001b[0;34m(\u001b[0m\u001b[0mx\u001b[0m \u001b[0;34m=\u001b[0m \u001b[0;34m'price'\u001b[0m\u001b[0;34m,\u001b[0m \u001b[0my\u001b[0m \u001b[0;34m=\u001b[0m \u001b[0;34m'n_enrolled'\u001b[0m\u001b[0;34m,\u001b[0m \u001b[0mdata\u001b[0m \u001b[0;34m=\u001b[0m \u001b[0mprice_n_enrolled\u001b[0m\u001b[0;34m)\u001b[0m\u001b[0;34m\u001b[0m\u001b[0;34m\u001b[0m\u001b[0m\n\u001b[0m",
      "\u001b[0;31mNameError\u001b[0m: name 'price_n_enrolled' is not defined"
     ]
    }
   ],
   "source": [
    "price_length_n_enrolled = pd.read_sql('''SELECT course_length, price, n_enrolled\n",
    "                                      FROM edx''', edx_conn)\n",
    "\n",
    "sns.scatterplot(x = 'price', y = 'n_enrolled', data = price_n_enrolled)"
   ]
  },
  {
   "cell_type": "markdown",
   "id": "fea88172",
   "metadata": {},
   "source": [
    "What institution is the most profitable using edX ?"
   ]
  },
  {
   "cell_type": "code",
   "execution_count": null,
   "id": "9742635f",
   "metadata": {},
   "outputs": [],
   "source": [
    "profit_table = pd.read_sql('''SELECT institution, price*n_enrolled as profit\n",
    "                              FROM edx \n",
    "                              GROUP BY institution\n",
    "                              ORDER BY profit DESC\n",
    "                              LIMIT 10''', edx_conn)\n",
    "sns.barplot(x = 'profit', y = 'institution', data = profit_table , color = 'green')\n"
   ]
  },
  {
   "cell_type": "markdown",
   "id": "da295133",
   "metadata": {},
   "source": [
    "Is the average price a more important metric or is the number of user one ?"
   ]
  },
  {
   "cell_type": "code",
   "execution_count": null,
   "id": "23e23641",
   "metadata": {},
   "outputs": [],
   "source": [
    "profit_avg_price = pd.read_sql('''SELECT institution, price*n_enrolled as profit, AVG(price) as avg_price\n",
    "                              FROM edx \n",
    "                              GROUP BY institution\n",
    "                              ORDER BY profit DESC''', edx_conn)\n",
    "\n",
    "sns.scatterplot(x = 'avg_price', y = 'profit', data = profit_table , color = 'red')"
   ]
  },
  {
   "cell_type": "code",
   "execution_count": null,
   "id": "463194e0",
   "metadata": {},
   "outputs": [],
   "source": [
    "profit_n_enrolled = pd.read_sql('''SELECT institution, price*n_enrolled as profit, n_enrolled\n",
    "                              FROM edx \n",
    "                              GROUP BY institution\n",
    "                              ORDER BY profit''', edx_conn)\n",
    "\n",
    "sns.scatterplot(x = 'n_enrolled', y = 'profit', data = profit_n_enrolled , color = 'red')"
   ]
  },
  {
   "cell_type": "code",
   "execution_count": null,
   "id": "22b9f96b",
   "metadata": {
    "scrolled": false
   },
   "outputs": [],
   "source": [
    "price_n_enrolled = pd.read_sql('''SELECT institution, price, n_enrolled,\n",
    "                                CASE\n",
    "                                    WHEN price BETWEEN 0 AND 20 THEN 'cheap'\n",
    "                                    WHEN price BETWEEN 20 AND 50 THEN 'middle'\n",
    "                                    WHEN price BETWEEN 50 AND 100 THEN 'expensive'\n",
    "                                    WHEN price BETWEEN 100 AND 200 THEN 'really expensive'\n",
    "                                    ELSE 'extremely expensive'\n",
    "                                END AS 'price_category'\n",
    "                              FROM edx''', edx_conn)\n",
    "\n",
    "graph = sns.catplot(x = 'price_category', y = 'n_enrolled', data = price_n_enrolled , color = 'green', kind =\"box\")\n",
    "graph.set_yscale(\"log\")\n"
   ]
  },
  {
   "cell_type": "code",
   "execution_count": null,
   "id": "0f0dd6ad",
   "metadata": {
    "scrolled": true
   },
   "outputs": [],
   "source": [
    "sns.scatterplot(x = 'price', y = 'course_length', data = price_length_n_enrolled)"
   ]
  },
  {
   "cell_type": "code",
   "execution_count": null,
   "id": "32a63f63",
   "metadata": {},
   "outputs": [],
   "source": [
    "data_analytics = pd.read_sql('''SELECT MAX(price), MIN(price)\n",
    "                                      FROM edx\n",
    "                                      WHERE subject LIKE '%Data Analysis%'\n",
    "                                      ORDER BY price DESC LIMIT 10 ''', edx_conn)\n",
    "data_analytics"
   ]
  },
  {
   "cell_type": "markdown",
   "id": "7ea88771",
   "metadata": {},
   "source": [
    "It's interesting to see that the price range of the courses range from 25 - $350 USD. What would explain such a range?\n",
    "\n",
    "What would be increasing the price if it not for the number of enrolees or the length of the course?"
   ]
  },
  {
   "cell_type": "code",
   "execution_count": null,
   "id": "f233b67d",
   "metadata": {},
   "outputs": [],
   "source": [
    "data_analytics_grouped_by_price = pd.read_sql(\n",
    "''' SELECT title, price, institution, level\n",
    "    FROM edx\n",
    "    WHERE subject LIKE \"%Data%\"\n",
    "    GROUP BY price''', edx_conn)\n",
    "\n",
    "data_analytics_grouped_by_price"
   ]
  },
  {
   "cell_type": "code",
   "execution_count": null,
   "id": "a4e91f76",
   "metadata": {},
   "outputs": [],
   "source": [
    "sns.barplot(x = 'price', y = 'institution', data = data_analytics_grouped_by_price , color = 'blue', edgecolor='white', ci=False)"
   ]
  },
  {
   "cell_type": "code",
   "execution_count": null,
   "id": "0b741cd8",
   "metadata": {},
   "outputs": [],
   "source": [
    "sns.barplot(x = 'price', y = 'Level', data = data_analytics_grouped_by_price , color = 'blue', edgecolor='white', ci=False)\n"
   ]
  },
  {
   "cell_type": "markdown",
   "id": "237c9cb6",
   "metadata": {},
   "source": [
    "It seems its both the name of the institution and the associated level that is making the price go up.\n",
    "\n",
    "What is the institution that has made most of edx data courses?"
   ]
  },
  {
   "cell_type": "code",
   "execution_count": null,
   "id": "bd73572e",
   "metadata": {},
   "outputs": [],
   "source": [
    "data_courses_grouped_by_institution = pd.read_sql(\n",
    "''' SELECT institution, COUNT(title) AS number_of_courses\n",
    "    FROM edx\n",
    "    WHERE subject LIKE \"%Data%\"\n",
    "    GROUP BY institution\n",
    "    ORDER BY number_of_courses''', edx_conn)\n",
    "\n",
    "data_courses_grouped_by_institution"
   ]
  },
  {
   "cell_type": "code",
   "execution_count": null,
   "id": "f4713933",
   "metadata": {},
   "outputs": [],
   "source": [
    "sns.barplot(x = 'number_of_courses', y = 'institution', data = data_courses_grouped_by_institution , color = 'blue', edgecolor='white', ci=False)"
   ]
  },
  {
   "cell_type": "markdown",
   "id": "bcb9a0d5",
   "metadata": {},
   "source": [
    "What's the institution that has the higher average_price for its courses?"
   ]
  },
  {
   "cell_type": "code",
   "execution_count": null,
   "id": "78ea1273",
   "metadata": {},
   "outputs": [],
   "source": [
    "data_courses_grouped_by_institution_ordered_by_avg_price = pd.read_sql(\n",
    "''' SELECT institution, COUNT(title) AS number_of_courses, AVG(price) as average_price\n",
    "    FROM edx\n",
    "    WHERE subject LIKE \"%Data%\"\n",
    "    GROUP BY institution\n",
    "    ORDER BY average_price''', edx_conn)\n",
    "\n",
    "data_courses_grouped_by_institution_ordered_by_avg_price"
   ]
  },
  {
   "cell_type": "code",
   "execution_count": null,
   "id": "d2d91862",
   "metadata": {},
   "outputs": [],
   "source": [
    "sns.barplot(x = 'average_price', y = 'institution', data = data_courses_grouped_by_institution_ordered_by_avg_price , color = 'blue', edgecolor='white', ci=False)"
   ]
  },
  {
   "cell_type": "markdown",
   "id": "257779b3",
   "metadata": {},
   "source": [
    "How many Data Courses are there in the edX catalogue?\n",
    "What does that mean in % ?"
   ]
  },
  {
   "cell_type": "code",
   "execution_count": null,
   "id": "18352b10",
   "metadata": {},
   "outputs": [],
   "source": [
    "number_of_data_courses = pd.read_sql(\n",
    "''' SELECT COUNT(*) as number_of_data_courses\n",
    "    FROM edx\n",
    "    WHERE title LIKE \"%Data%\" OR \"%data%\"''', edx_conn)\n",
    "\n",
    "number_of_data_courses"
   ]
  },
  {
   "cell_type": "code",
   "execution_count": null,
   "id": "4ddd463b",
   "metadata": {},
   "outputs": [],
   "source": [
    "percentage_of_data_courses = pd.read_sql(\n",
    "''' SELECT (COUNT(*)*1.0/(SELECT COUNT(*) FROM edx))*100 as percentage_of_data_courses\n",
    "    FROM edx\n",
    "    WHERE title LIKE \"%Data%\" OR \"%data%\"''', edx_conn)\n",
    "\n",
    "percentage_of_data_courses"
   ]
  },
  {
   "cell_type": "markdown",
   "id": "4f640c27",
   "metadata": {},
   "source": [
    "At what price would one learn SQL on edX ?"
   ]
  },
  {
   "cell_type": "code",
   "execution_count": null,
   "id": "cd7743b9",
   "metadata": {},
   "outputs": [],
   "source": [
    "SQL_courses = pd.read_sql(\n",
    "''' SELECT title, price, level\n",
    "    FROM edx\n",
    "    WHERE title LIKE \"%SQL%\" OR \"%Structured Query Language%\"\n",
    "    GROUP BY price''', edx_conn)\n",
    "\n",
    "SQL_courses"
   ]
  },
  {
   "cell_type": "markdown",
   "id": "71621b0e",
   "metadata": {},
   "source": [
    "It seems that there's only 2 classes on SQL... Would there be more in python ?"
   ]
  },
  {
   "cell_type": "code",
   "execution_count": null,
   "id": "85e3d2a1",
   "metadata": {
    "scrolled": true
   },
   "outputs": [],
   "source": [
    "python_courses = pd.read_sql(\n",
    "''' SELECT title, price, level\n",
    "    FROM edx\n",
    "    WHERE title LIKE \"%python%\" OR \"%Python%\"\n",
    "    GROUP BY price''', edx_conn)\n",
    "\n",
    "\n",
    "python_courses"
   ]
  },
  {
   "cell_type": "markdown",
   "id": "b4288833",
   "metadata": {},
   "source": [
    "<h3>udemy EDA</h3>\t\n"
   ]
  },
  {
   "cell_type": "code",
   "execution_count": null,
   "id": "e842b71f",
   "metadata": {},
   "outputs": [],
   "source": [
    "print('-- Shape of {}: '.format('udemy'), udemy.shape, '\\n _____ \\n')\n",
    "print('-- Shape of {}: '.format('udemy'), udemy.dtypes, '\\n _____ \\n')\n",
    "print('-- Number of unique rows {}\\n\\n'.format('udemy'), udemy.nunique())"
   ]
  },
  {
   "cell_type": "code",
   "execution_count": null,
   "id": "645e1709",
   "metadata": {},
   "outputs": [],
   "source": [
    "print('-- Columns of {}:'.format('udemy'), '\\n', udemy.columns, '\\n _____ \\n')\n",
    "print('-- Head of {}\\n\\n'.format('udemy'), udemy.head())"
   ]
  },
  {
   "cell_type": "markdown",
   "id": "2cbe12a3",
   "metadata": {},
   "source": [
    "<h1>edx_compared_with_udemy EDA</h1>\t\n"
   ]
  },
  {
   "cell_type": "code",
   "execution_count": null,
   "id": "74c777c6",
   "metadata": {},
   "outputs": [],
   "source": [
    "print('-- Shape of {}: '.format('edx_compared_with_udemy'), edx_compared_with_udemy.shape, '\\n _____ \\n')\n",
    "print('-- Shape of {}: '.format('edx_compared_with_udemy'), edx_compared_with_udemy.dtypes, '\\n _____ \\n')\n",
    "print('-- Number of unique rows {}\\n\\n'.format('edx_compared_with_udemy'), edx_compared_with_udemy.nunique())"
   ]
  },
  {
   "cell_type": "code",
   "execution_count": null,
   "id": "d9be04d6",
   "metadata": {},
   "outputs": [],
   "source": [
    "print('-- Columns of {}:'.format('edx_compared_with_udemy'), '\\n', edx_compared_with_udemy.columns, '\\n _____ \\n')\n",
    "print('-- Head of {} \\n\\n'.format('edx_compared_with_udemy'), edx_compared_with_udemy.head())"
   ]
  },
  {
   "cell_type": "code",
   "execution_count": null,
   "id": "00e92cc4",
   "metadata": {},
   "outputs": [],
   "source": []
  }
 ],
 "metadata": {
  "kernelspec": {
   "display_name": "Python 3 (ipykernel)",
   "language": "python",
   "name": "python3"
  },
  "language_info": {
   "codemirror_mode": {
    "name": "ipython",
    "version": 3
   },
   "file_extension": ".py",
   "mimetype": "text/x-python",
   "name": "python",
   "nbconvert_exporter": "python",
   "pygments_lexer": "ipython3",
   "version": "3.9.7"
  }
 },
 "nbformat": 4,
 "nbformat_minor": 5
}
