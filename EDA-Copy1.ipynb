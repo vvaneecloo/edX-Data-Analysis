{
 "cells": [
  {
   "cell_type": "markdown",
   "id": "78db1b69",
   "metadata": {},
   "source": [
    "<h1>Project EDA</h1>\t"
   ]
  },
  {
   "cell_type": "code",
   "execution_count": 5,
   "id": "a1388e82",
   "metadata": {},
   "outputs": [],
   "source": [
    "import pandas as pd\n",
    "import matplotlib.pylab as plt\n",
    "import seaborn"
   ]
  },
  {
   "cell_type": "markdown",
   "id": "c18fbd35",
   "metadata": {},
   "source": [
    "<h3>Declaring the variables for the project</h4>\t"
   ]
  },
  {
   "cell_type": "code",
   "execution_count": 34,
   "id": "74863290",
   "metadata": {},
   "outputs": [],
   "source": [
    "edx = pd.read_csv('edx_courses.csv')\n",
    "udemy = pd.read_csv('udemy_courses.csv')\n",
    "edx_compared_with_udemy = pd.read_csv('udemy_compared_to_edx.csv')"
   ]
  },
  {
   "cell_type": "markdown",
   "id": "358bd970",
   "metadata": {},
   "source": [
    "<h3>edx EDA</h3>\t\n"
   ]
  },
  {
   "cell_type": "code",
   "execution_count": null,
   "id": "12a8c614",
   "metadata": {},
   "outputs": [],
   "source": [
    "print('-- Shape of {}: '.format('edx'), edx.shape, '\\n _____ \\n')\n",
    "print('-- Number of unique rows {}\\n\\n'.format('edx'), edx.nunique(),'\\n _____ \\n')\n",
    "print('-- Columns of {}:'.format('edx'), '\\n', edx.columns, '\\n _____ \\n')\n",
    "print('-- Head of {}\\n\\n'.format('edx'), edx.head())"
   ]
  },
  {
   "cell_type": "markdown",
   "id": "785f3c37",
   "metadata": {},
   "source": [
    "<h3>udemy EDA</h3>\t\n"
   ]
  },
  {
   "cell_type": "code",
   "execution_count": 43,
   "id": "27b8547f",
   "metadata": {},
   "outputs": [
    {
     "name": "stdout",
     "output_type": "stream",
     "text": [
      "-- Shape of udemy:  (3678, 12) \n",
      " _____ \n",
      "\n",
      "-- Number of unique rows udemy\n",
      "\n",
      " course_id              3672\n",
      "course_title           3663\n",
      "url                    3672\n",
      "is_paid                   2\n",
      "price                    38\n",
      "num_subscribers        2197\n",
      "num_reviews             511\n",
      "num_lectures            229\n",
      "level                     4\n",
      "content_duration        105\n",
      "published_timestamp    3672\n",
      "subject                   4\n",
      "dtype: int64 \n",
      " _____ \n",
      "\n",
      "-- Columns of udemy: \n",
      " Index(['course_id', 'course_title', 'url', 'is_paid', 'price',\n",
      "       'num_subscribers', 'num_reviews', 'num_lectures', 'level',\n",
      "       'content_duration', 'published_timestamp', 'subject'],\n",
      "      dtype='object') \n",
      " _____ \n",
      "\n",
      "-- Head of udemy\n",
      "\n",
      "    course_id                                       course_title  \\\n",
      "0    1070968                 Ultimate Investment Banking Course   \n",
      "1    1113822  Complete GST Course & Certification - Grow You...   \n",
      "2    1006314  Financial Modeling for Business Analysts and C...   \n",
      "3    1210588  Beginner to Pro - Financial Analysis in Excel ...   \n",
      "4    1011058       How To Maximize Your Profits Trading Options   \n",
      "\n",
      "                                                 url  is_paid  price  \\\n",
      "0  https://www.udemy.com/ultimate-investment-bank...     True    200   \n",
      "1      https://www.udemy.com/goods-and-services-tax/     True     75   \n",
      "2  https://www.udemy.com/financial-modeling-for-b...     True     45   \n",
      "3  https://www.udemy.com/complete-excel-finance-c...     True     95   \n",
      "4  https://www.udemy.com/how-to-maximize-your-pro...     True    200   \n",
      "\n",
      "   num_subscribers  num_reviews  num_lectures               level  \\\n",
      "0             2147           23            51          All Levels   \n",
      "1             2792          923           274          All Levels   \n",
      "2             2174           74            51  Intermediate Level   \n",
      "3             2451           11            36          All Levels   \n",
      "4             1276           45            26  Intermediate Level   \n",
      "\n",
      "   content_duration   published_timestamp           subject  \n",
      "0               1.5  2017-01-18T20:58:58Z  Business Finance  \n",
      "1              39.0  2017-03-09T16:34:20Z  Business Finance  \n",
      "2               2.5  2016-12-19T19:26:30Z  Business Finance  \n",
      "3               3.0  2017-05-30T20:07:24Z  Business Finance  \n",
      "4               2.0  2016-12-13T14:57:18Z  Business Finance  \n"
     ]
    }
   ],
   "source": [
    "print('-- Shape of {}: '.format('udemy'), udemy.shape, '\\n _____ \\n')\n",
    "print('-- Number of unique rows {}\\n\\n'.format('udemy'), udemy.nunique(),'\\n _____ \\n')\n",
    "print('-- Columns of {}:'.format('udemy'), '\\n', udemy.columns, '\\n _____ \\n')\n",
    "print('-- Head of {}\\n\\n'.format('udemy'), udemy.head())"
   ]
  },
  {
   "cell_type": "markdown",
   "id": "d05168e3",
   "metadata": {},
   "source": [
    "<h1>edx_compared_with_udemy EDA</h1>\t\n"
   ]
  },
  {
   "cell_type": "code",
   "execution_count": 45,
   "id": "1a83097b",
   "metadata": {},
   "outputs": [
    {
     "name": "stdout",
     "output_type": "stream",
     "text": [
      "-- Shape of edx_compared_with_udemy:  (52, 1) \n",
      " _____ \n",
      "\n",
      "-- Number of unique rows edx_compared_with_udemy\n",
      "\n",
      " Catégorie : Toutes catégories    15\n",
      "dtype: int64 \n",
      " _____ \n",
      "\n",
      "-- Columns of edx_compared_with_udemy: \n",
      " Index(['Catégorie : Toutes catégories'], dtype='object') \n",
      " _____ \n",
      "\n",
      "-- Head of edx_compared_with_udemy \n",
      "\n",
      "                            Catégorie : Toutes catégories\n",
      "Semaine    udemy: (France)                 edx: (France)\n",
      "2022-01-30 71                                         12\n",
      "2022-02-06 79                                         16\n",
      "2022-02-13 82                                         13\n",
      "2022-02-20 71                                         11\n"
     ]
    }
   ],
   "source": [
    "print('-- Shape of {}: '.format('edx_compared_with_udemy'), edx_compared_with_udemy.shape, '\\n _____ \\n')\n",
    "print('-- Number of unique rows {}\\n\\n'.format('edx_compared_with_udemy'), edx_compared_with_udemy.nunique(),'\\n _____ \\n')\n",
    "print('-- Columns of {}:'.format('edx_compared_with_udemy'), '\\n', edx_compared_with_udemy.columns, '\\n _____ \\n')\n",
    "print('-- Head of {} \\n\\n'.format('edx_compared_with_udemy'), edx_compared_with_udemy.head())"
   ]
  }
 ],
 "metadata": {
  "kernelspec": {
   "display_name": "Python 3 (ipykernel)",
   "language": "python",
   "name": "python3"
  },
  "language_info": {
   "codemirror_mode": {
    "name": "ipython",
    "version": 3
   },
   "file_extension": ".py",
   "mimetype": "text/x-python",
   "name": "python",
   "nbconvert_exporter": "python",
   "pygments_lexer": "ipython3",
   "version": "3.9.7"
  }
 },
 "nbformat": 4,
 "nbformat_minor": 5
}
